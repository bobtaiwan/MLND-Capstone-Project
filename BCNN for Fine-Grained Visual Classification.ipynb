{
 "cells": [
  {
   "cell_type": "markdown",
   "metadata": {},
   "source": [
    "# MLND: Capstone Project                                                          \n",
    "# Mingcheng Yen\n",
    "# June19, 2018"
   ]
  },
  {
   "cell_type": "markdown",
   "metadata": {},
   "source": [
    "#  I. Definition"
   ]
  },
  {
   "cell_type": "markdown",
   "metadata": {},
   "source": [
    "## Project Overview"
   ]
  },
  {
   "cell_type": "markdown",
   "metadata": {},
   "source": [
    "As shoppers move online, it’d be a dream come true to have products in photos classified automatically. But, automatic product recognition is challenging because for the same product, a picture can be taken in different lighting, angles, backgrounds, and levels of occlusion. Meanwhile different fine-grained categories may look very similar, for example, ball chair vs egg chair for furniture, or dutch oven vs french oven for cookware. Many of today’s general-purpose recognition machines simply can’t perceive such subtle differences between photos, yet these differences could be important for shopping decisions.[1]"
   ]
  },
  {
   "cell_type": "markdown",
   "metadata": {},
   "source": [
    "## Problem Statement"
   ]
  },
  {
   "cell_type": "markdown",
   "metadata": {},
   "source": [
    "This is a competition of automatic image classification from Kaggle, for this competition we have a dataset of furniture images, each image has one ground truth label, and our goal is classificating the furniture correctly, even they are in similarly. For this problem, we will need to build a CNN model to do image classification."
   ]
  },
  {
   "cell_type": "markdown",
   "metadata": {},
   "source": [
    "## Metrics"
   ]
  },
  {
   "cell_type": "markdown",
   "metadata": {},
   "source": [
    "For this competition each image has one ground truth label. An algorithm to be evaluated will produce 1 label per image. If the predicted label is the same as the groundtruth label, then the error for that image is 0,otherwise it is 1. The final score is the error averaged across all images."
   ]
  },
  {
   "cell_type": "markdown",
   "metadata": {},
   "source": [
    "#  II. Analysis"
   ]
  },
  {
   "cell_type": "markdown",
   "metadata": {},
   "source": [
    "## Data Exploration"
   ]
  },
  {
   "cell_type": "markdown",
   "metadata": {},
   "source": [
    "### Datasets and Inputs\n",
    "\n",
    "#### Overview\n",
    "train.json: training data with image urls and labels\n",
    "validation.json: validation data with the same format as train.json\n",
    "test.json: images of which the participants need to generate predictions. Only image URLs are provided. sample_submission_randomlabel.csv: example submission file with random predictions to illustrate the submission file format\n",
    "#### Training Data\n",
    "The training dataset includes images from 128 furniture and home goods classes with one ground truth label for each image. It includes a total of 194,828 images for training and 6,400 images for validation and 12,800 images for testing. Train and validation sets have the same format as shown below:\n",
    "{\n",
    "\"images\" : [image], \"annotations\" : [annotation], }\n",
    "image{\n",
    "\"image_id\" : int,\n",
    "\"url\": [string]\n",
    "}\n",
    "annotation{\n",
    "\"image_id\" : int,\n",
    "\"label_id\" : int\n",
    "}\n",
    "#### Testing data and submissions\n",
    "The testing data only has images as shown below: {\n",
    "\"images\" : [image],\n",
    "}\n",
    "image { \"image_id\" : int,\n",
    "     \n",
    "\"url\" : [string], }\n"
   ]
  },
  {
   "cell_type": "markdown",
   "metadata": {},
   "source": [
    "### Import Libs"
   ]
  },
  {
   "cell_type": "code",
   "execution_count": 1,
   "metadata": {},
   "outputs": [],
   "source": [
    "import pathlib\n",
    "from PIL import Image\n",
    "from tqdm import tqdm\n",
    "import pandas as pd\n",
    "import matplotlib.pyplot as plt\n",
    "import seaborn as sns\n",
    "import json\n",
    "\n",
    "%matplotlib inline "
   ]
  },
  {
   "cell_type": "markdown",
   "metadata": {},
   "source": [
    "### JSON to Data Frame"
   ]
  },
  {
   "cell_type": "code",
   "execution_count": 2,
   "metadata": {},
   "outputs": [],
   "source": [
    "datas=['train', 'validation', 'test']\n",
    "df=[pd.DataFrame(), pd.DataFrame(), pd.DataFrame()]\n",
    "for i in range(len(datas)):\n",
    "    with open('./data/json/{0}.json'.format(datas[i])) as data:\n",
    "        df[i] = json.load(data)\n",
    "        images={'images':df[i]['images']for key in df[i].keys()}\n",
    "        df_images=pd.DataFrame(images)['images'].apply(pd.Series)\n",
    "        if datas[i]!='test':\n",
    "            annotations={'annotations':df[i]['annotations']for key in df[i].keys()}\n",
    "            df_annotations=pd.DataFrame(annotations)['annotations'].apply(pd.Series)\n",
    "            df[i] = pd.merge(df_annotations, df_images, on='image_id', how='outer')\n",
    "        else:\n",
    "            df[i]=pd.DataFrame(df_images)\n",
    "        df[i]['url'] = df[i]['url'].apply(lambda x:str(x[0]))"
   ]
  },
  {
   "cell_type": "code",
   "execution_count": 3,
   "metadata": {},
   "outputs": [],
   "source": [
    "train_data=df[0]\n",
    "val_data=df[1]\n",
    "test_data=df[2]"
   ]
  },
  {
   "cell_type": "markdown",
   "metadata": {},
   "source": [
    "### Train Data"
   ]
  },
  {
   "cell_type": "code",
   "execution_count": 4,
   "metadata": {},
   "outputs": [
    {
     "data": {
      "text/html": [
       "<div>\n",
       "<style>\n",
       "    .dataframe thead tr:only-child th {\n",
       "        text-align: right;\n",
       "    }\n",
       "\n",
       "    .dataframe thead th {\n",
       "        text-align: left;\n",
       "    }\n",
       "\n",
       "    .dataframe tbody tr th {\n",
       "        vertical-align: top;\n",
       "    }\n",
       "</style>\n",
       "<table border=\"1\" class=\"dataframe\">\n",
       "  <thead>\n",
       "    <tr style=\"text-align: right;\">\n",
       "      <th></th>\n",
       "      <th>image_id</th>\n",
       "      <th>label_id</th>\n",
       "      <th>url</th>\n",
       "    </tr>\n",
       "  </thead>\n",
       "  <tbody>\n",
       "    <tr>\n",
       "      <th>0</th>\n",
       "      <td>1</td>\n",
       "      <td>5</td>\n",
       "      <td>https://img13.360buyimg.com/imgzone/jfs/t2857/...</td>\n",
       "    </tr>\n",
       "    <tr>\n",
       "      <th>1</th>\n",
       "      <td>2</td>\n",
       "      <td>5</td>\n",
       "      <td>http://www.tengdakeli.cn/350/timg01/uploaded/i...</td>\n",
       "    </tr>\n",
       "    <tr>\n",
       "      <th>2</th>\n",
       "      <td>3</td>\n",
       "      <td>5</td>\n",
       "      <td>https://img13.360buyimg.com/imgzone/jfs/t8899/...</td>\n",
       "    </tr>\n",
       "    <tr>\n",
       "      <th>3</th>\n",
       "      <td>4</td>\n",
       "      <td>5</td>\n",
       "      <td>http://img4.tbcdn.cn/tfscom/i1/2855447419/TB2S...</td>\n",
       "    </tr>\n",
       "    <tr>\n",
       "      <th>4</th>\n",
       "      <td>5</td>\n",
       "      <td>5</td>\n",
       "      <td>http://a.vpimg4.com/upload/merchandise/287883/...</td>\n",
       "    </tr>\n",
       "  </tbody>\n",
       "</table>\n",
       "</div>"
      ],
      "text/plain": [
       "   image_id  label_id                                                url\n",
       "0         1         5  https://img13.360buyimg.com/imgzone/jfs/t2857/...\n",
       "1         2         5  http://www.tengdakeli.cn/350/timg01/uploaded/i...\n",
       "2         3         5  https://img13.360buyimg.com/imgzone/jfs/t8899/...\n",
       "3         4         5  http://img4.tbcdn.cn/tfscom/i1/2855447419/TB2S...\n",
       "4         5         5  http://a.vpimg4.com/upload/merchandise/287883/..."
      ]
     },
     "execution_count": 4,
     "metadata": {},
     "output_type": "execute_result"
    }
   ],
   "source": [
    "train_data.head()"
   ]
  },
  {
   "cell_type": "code",
   "execution_count": 5,
   "metadata": {},
   "outputs": [
    {
     "name": "stdout",
     "output_type": "stream",
     "text": [
      "Train Data Shape:(194828, 3)\n"
     ]
    }
   ],
   "source": [
    "print('Train Data Shape:{0}'.format(train_data.shape))"
   ]
  },
  {
   "cell_type": "markdown",
   "metadata": {},
   "source": [
    "### Val Data"
   ]
  },
  {
   "cell_type": "code",
   "execution_count": 6,
   "metadata": {},
   "outputs": [
    {
     "data": {
      "text/html": [
       "<div>\n",
       "<style>\n",
       "    .dataframe thead tr:only-child th {\n",
       "        text-align: right;\n",
       "    }\n",
       "\n",
       "    .dataframe thead th {\n",
       "        text-align: left;\n",
       "    }\n",
       "\n",
       "    .dataframe tbody tr th {\n",
       "        vertical-align: top;\n",
       "    }\n",
       "</style>\n",
       "<table border=\"1\" class=\"dataframe\">\n",
       "  <thead>\n",
       "    <tr style=\"text-align: right;\">\n",
       "      <th></th>\n",
       "      <th>image_id</th>\n",
       "      <th>label_id</th>\n",
       "      <th>url</th>\n",
       "    </tr>\n",
       "  </thead>\n",
       "  <tbody>\n",
       "    <tr>\n",
       "      <th>0</th>\n",
       "      <td>1</td>\n",
       "      <td>38</td>\n",
       "      <td>http://www.ghs.net/public/images/fb/3d/51/3beb...</td>\n",
       "    </tr>\n",
       "    <tr>\n",
       "      <th>1</th>\n",
       "      <td>2</td>\n",
       "      <td>63</td>\n",
       "      <td>https://img.alicdn.com/imgextra/TB2chFei9YH8KJ...</td>\n",
       "    </tr>\n",
       "    <tr>\n",
       "      <th>2</th>\n",
       "      <td>3</td>\n",
       "      <td>33</td>\n",
       "      <td>http://static-news.17house.com/web/news/201602...</td>\n",
       "    </tr>\n",
       "    <tr>\n",
       "      <th>3</th>\n",
       "      <td>4</td>\n",
       "      <td>126</td>\n",
       "      <td>http://img000.hc360.cn/g6/M07/CB/88/wKhQsFNNVJ...</td>\n",
       "    </tr>\n",
       "    <tr>\n",
       "      <th>4</th>\n",
       "      <td>5</td>\n",
       "      <td>18</td>\n",
       "      <td>https://img.alicdn.com/imgextra/T1sLtpFH8aXXXX...</td>\n",
       "    </tr>\n",
       "  </tbody>\n",
       "</table>\n",
       "</div>"
      ],
      "text/plain": [
       "   image_id  label_id                                                url\n",
       "0         1        38  http://www.ghs.net/public/images/fb/3d/51/3beb...\n",
       "1         2        63  https://img.alicdn.com/imgextra/TB2chFei9YH8KJ...\n",
       "2         3        33  http://static-news.17house.com/web/news/201602...\n",
       "3         4       126  http://img000.hc360.cn/g6/M07/CB/88/wKhQsFNNVJ...\n",
       "4         5        18  https://img.alicdn.com/imgextra/T1sLtpFH8aXXXX..."
      ]
     },
     "execution_count": 6,
     "metadata": {},
     "output_type": "execute_result"
    }
   ],
   "source": [
    "val_data.head()"
   ]
  },
  {
   "cell_type": "code",
   "execution_count": 7,
   "metadata": {},
   "outputs": [
    {
     "name": "stdout",
     "output_type": "stream",
     "text": [
      "Val Data Shape:(6400, 3)\n"
     ]
    }
   ],
   "source": [
    "print('Val Data Shape:{0}'.format(val_data.shape))"
   ]
  },
  {
   "cell_type": "markdown",
   "metadata": {},
   "source": [
    "### Test Data"
   ]
  },
  {
   "cell_type": "code",
   "execution_count": 8,
   "metadata": {},
   "outputs": [
    {
     "data": {
      "text/html": [
       "<div>\n",
       "<style>\n",
       "    .dataframe thead tr:only-child th {\n",
       "        text-align: right;\n",
       "    }\n",
       "\n",
       "    .dataframe thead th {\n",
       "        text-align: left;\n",
       "    }\n",
       "\n",
       "    .dataframe tbody tr th {\n",
       "        vertical-align: top;\n",
       "    }\n",
       "</style>\n",
       "<table border=\"1\" class=\"dataframe\">\n",
       "  <thead>\n",
       "    <tr style=\"text-align: right;\">\n",
       "      <th></th>\n",
       "      <th>image_id</th>\n",
       "      <th>url</th>\n",
       "    </tr>\n",
       "  </thead>\n",
       "  <tbody>\n",
       "    <tr>\n",
       "      <th>0</th>\n",
       "      <td>1</td>\n",
       "      <td>https://img13.360buyimg.com/imgzone/jfs/t13174...</td>\n",
       "    </tr>\n",
       "    <tr>\n",
       "      <th>1</th>\n",
       "      <td>2</td>\n",
       "      <td>http://img35.ddimg.cn/79/22/1258168705-1_u.jpg</td>\n",
       "    </tr>\n",
       "    <tr>\n",
       "      <th>2</th>\n",
       "      <td>3</td>\n",
       "      <td>https://img.alicdn.com/imgextra/TB19HtjKXXXXXc...</td>\n",
       "    </tr>\n",
       "    <tr>\n",
       "      <th>3</th>\n",
       "      <td>4</td>\n",
       "      <td>https://img13.360buyimg.com/imgzone/jfs/t16498...</td>\n",
       "    </tr>\n",
       "    <tr>\n",
       "      <th>4</th>\n",
       "      <td>5</td>\n",
       "      <td>http://img4.99114.com/group1/M00/7D/C5/wKgGTFf...</td>\n",
       "    </tr>\n",
       "  </tbody>\n",
       "</table>\n",
       "</div>"
      ],
      "text/plain": [
       "   image_id                                                url\n",
       "0         1  https://img13.360buyimg.com/imgzone/jfs/t13174...\n",
       "1         2     http://img35.ddimg.cn/79/22/1258168705-1_u.jpg\n",
       "2         3  https://img.alicdn.com/imgextra/TB19HtjKXXXXXc...\n",
       "3         4  https://img13.360buyimg.com/imgzone/jfs/t16498...\n",
       "4         5  http://img4.99114.com/group1/M00/7D/C5/wKgGTFf..."
      ]
     },
     "execution_count": 8,
     "metadata": {},
     "output_type": "execute_result"
    }
   ],
   "source": [
    "test_data.head()"
   ]
  },
  {
   "cell_type": "code",
   "execution_count": 9,
   "metadata": {},
   "outputs": [
    {
     "name": "stdout",
     "output_type": "stream",
     "text": [
      "Test Data Shape:(12800, 2)\n"
     ]
    }
   ],
   "source": [
    "print('Test Data Shape:{0}'.format(test_data.shape))"
   ]
  },
  {
   "cell_type": "markdown",
   "metadata": {},
   "source": [
    "### Checking Data"
   ]
  },
  {
   "cell_type": "markdown",
   "metadata": {},
   "source": [
    "#### Missing Data in Taining Data set"
   ]
  },
  {
   "cell_type": "code",
   "execution_count": 10,
   "metadata": {},
   "outputs": [
    {
     "data": {
      "text/html": [
       "<div>\n",
       "<style>\n",
       "    .dataframe thead tr:only-child th {\n",
       "        text-align: right;\n",
       "    }\n",
       "\n",
       "    .dataframe thead th {\n",
       "        text-align: left;\n",
       "    }\n",
       "\n",
       "    .dataframe tbody tr th {\n",
       "        vertical-align: top;\n",
       "    }\n",
       "</style>\n",
       "<table border=\"1\" class=\"dataframe\">\n",
       "  <thead>\n",
       "    <tr style=\"text-align: right;\">\n",
       "      <th></th>\n",
       "      <th>Total</th>\n",
       "      <th>Percent</th>\n",
       "    </tr>\n",
       "  </thead>\n",
       "  <tbody>\n",
       "    <tr>\n",
       "      <th>url</th>\n",
       "      <td>0</td>\n",
       "      <td>0.0</td>\n",
       "    </tr>\n",
       "    <tr>\n",
       "      <th>label_id</th>\n",
       "      <td>0</td>\n",
       "      <td>0.0</td>\n",
       "    </tr>\n",
       "    <tr>\n",
       "      <th>image_id</th>\n",
       "      <td>0</td>\n",
       "      <td>0.0</td>\n",
       "    </tr>\n",
       "  </tbody>\n",
       "</table>\n",
       "</div>"
      ],
      "text/plain": [
       "          Total  Percent\n",
       "url           0      0.0\n",
       "label_id      0      0.0\n",
       "image_id      0      0.0"
      ]
     },
     "execution_count": 10,
     "metadata": {},
     "output_type": "execute_result"
    }
   ],
   "source": [
    "total = train_data.isnull().sum().sort_values(ascending = False)\n",
    "percent = (train_data.isnull().sum()/train_data.count()).sort_values(ascending = False)\n",
    "missing_train_data = pd.concat([total, percent], axis=1, keys=['Total', 'Percent'])\n",
    "missing_train_data.head()"
   ]
  },
  {
   "cell_type": "markdown",
   "metadata": {},
   "source": [
    "#### Checking duplicate of training data"
   ]
  },
  {
   "cell_type": "code",
   "execution_count": 11,
   "metadata": {},
   "outputs": [
    {
     "data": {
      "text/plain": [
       "image_id    194828\n",
       "label_id       128\n",
       "url         194828\n",
       "dtype: int64"
      ]
     },
     "execution_count": 11,
     "metadata": {},
     "output_type": "execute_result"
    }
   ],
   "source": [
    "train_data.nunique()"
   ]
  },
  {
   "cell_type": "markdown",
   "metadata": {},
   "source": [
    "#### Missing Data in Validation Data set"
   ]
  },
  {
   "cell_type": "code",
   "execution_count": 12,
   "metadata": {},
   "outputs": [
    {
     "data": {
      "text/html": [
       "<div>\n",
       "<style>\n",
       "    .dataframe thead tr:only-child th {\n",
       "        text-align: right;\n",
       "    }\n",
       "\n",
       "    .dataframe thead th {\n",
       "        text-align: left;\n",
       "    }\n",
       "\n",
       "    .dataframe tbody tr th {\n",
       "        vertical-align: top;\n",
       "    }\n",
       "</style>\n",
       "<table border=\"1\" class=\"dataframe\">\n",
       "  <thead>\n",
       "    <tr style=\"text-align: right;\">\n",
       "      <th></th>\n",
       "      <th>Total</th>\n",
       "      <th>Percent</th>\n",
       "    </tr>\n",
       "  </thead>\n",
       "  <tbody>\n",
       "    <tr>\n",
       "      <th>url</th>\n",
       "      <td>0</td>\n",
       "      <td>0.0</td>\n",
       "    </tr>\n",
       "    <tr>\n",
       "      <th>label_id</th>\n",
       "      <td>0</td>\n",
       "      <td>0.0</td>\n",
       "    </tr>\n",
       "    <tr>\n",
       "      <th>image_id</th>\n",
       "      <td>0</td>\n",
       "      <td>0.0</td>\n",
       "    </tr>\n",
       "  </tbody>\n",
       "</table>\n",
       "</div>"
      ],
      "text/plain": [
       "          Total  Percent\n",
       "url           0      0.0\n",
       "label_id      0      0.0\n",
       "image_id      0      0.0"
      ]
     },
     "execution_count": 12,
     "metadata": {},
     "output_type": "execute_result"
    }
   ],
   "source": [
    "total = val_data.isnull().sum().sort_values(ascending = False)\n",
    "percent = (val_data.isnull().sum()/val_data.count()).sort_values(ascending = False)\n",
    "missing_val_data = pd.concat([total, percent], axis=1, keys=['Total', 'Percent'])\n",
    "missing_val_data.head()"
   ]
  },
  {
   "cell_type": "markdown",
   "metadata": {},
   "source": [
    "#### Checking duplicate of Validation data"
   ]
  },
  {
   "cell_type": "code",
   "execution_count": 13,
   "metadata": {},
   "outputs": [
    {
     "data": {
      "text/plain": [
       "image_id    6400\n",
       "label_id     128\n",
       "url         6400\n",
       "dtype: int64"
      ]
     },
     "execution_count": 13,
     "metadata": {},
     "output_type": "execute_result"
    }
   ],
   "source": [
    "val_data.nunique()"
   ]
  },
  {
   "cell_type": "markdown",
   "metadata": {},
   "source": [
    "#### Missing Data in Test Data set"
   ]
  },
  {
   "cell_type": "code",
   "execution_count": 14,
   "metadata": {},
   "outputs": [
    {
     "data": {
      "text/html": [
       "<div>\n",
       "<style>\n",
       "    .dataframe thead tr:only-child th {\n",
       "        text-align: right;\n",
       "    }\n",
       "\n",
       "    .dataframe thead th {\n",
       "        text-align: left;\n",
       "    }\n",
       "\n",
       "    .dataframe tbody tr th {\n",
       "        vertical-align: top;\n",
       "    }\n",
       "</style>\n",
       "<table border=\"1\" class=\"dataframe\">\n",
       "  <thead>\n",
       "    <tr style=\"text-align: right;\">\n",
       "      <th></th>\n",
       "      <th>Total</th>\n",
       "      <th>Percent</th>\n",
       "    </tr>\n",
       "  </thead>\n",
       "  <tbody>\n",
       "    <tr>\n",
       "      <th>url</th>\n",
       "      <td>0</td>\n",
       "      <td>0.0</td>\n",
       "    </tr>\n",
       "    <tr>\n",
       "      <th>image_id</th>\n",
       "      <td>0</td>\n",
       "      <td>0.0</td>\n",
       "    </tr>\n",
       "  </tbody>\n",
       "</table>\n",
       "</div>"
      ],
      "text/plain": [
       "          Total  Percent\n",
       "url           0      0.0\n",
       "image_id      0      0.0"
      ]
     },
     "execution_count": 14,
     "metadata": {},
     "output_type": "execute_result"
    }
   ],
   "source": [
    "total = test_data.isnull().sum().sort_values(ascending = False)\n",
    "percent = (test_data.isnull().sum()/test_data.count()).sort_values(ascending = False)\n",
    "missing_test_data = pd.concat([total, percent], axis=1, keys=['Total', 'Percent'])\n",
    "missing_test_data.head()"
   ]
  },
  {
   "cell_type": "markdown",
   "metadata": {},
   "source": [
    "#### Checking duplicate of Test data"
   ]
  },
  {
   "cell_type": "code",
   "execution_count": 15,
   "metadata": {},
   "outputs": [
    {
     "data": {
      "text/plain": [
       "image_id    12800\n",
       "url         12800\n",
       "dtype: int64"
      ]
     },
     "execution_count": 15,
     "metadata": {},
     "output_type": "execute_result"
    }
   ],
   "source": [
    "test_data.nunique()"
   ]
  },
  {
   "cell_type": "markdown",
   "metadata": {},
   "source": [
    "### Distribution of training data "
   ]
  },
  {
   "cell_type": "code",
   "execution_count": 16,
   "metadata": {},
   "outputs": [
    {
     "data": {
      "image/png": "[encoded data removed]",
      "text/plain": [
       "<matplotlib.figure.Figure at 0x1176b4400>"
      ]
     },
     "metadata": {},
     "output_type": "display_data"
    }
   ],
   "source": [
    "plt.figure(figsize = (20, 8))\n",
    "plt.title('Category Distribuition')\n",
    "sns.distplot(train_data['label_id'])\n",
    "plt.show()"
   ]
  },
  {
   "cell_type": "code",
   "execution_count": 17,
   "metadata": {},
   "outputs": [
    {
     "data": {
      "text/plain": [
       "<matplotlib.text.Text at 0x11883a860>"
      ]
     },
     "execution_count": 17,
     "metadata": {},
     "output_type": "execute_result"
    },
    {
     "data": {
      "image/png": "[encoded data removed]",
      "text/plain": [
       "<matplotlib.figure.Figure at 0x118367e80>"
      ]
     },
     "metadata": {},
     "output_type": "display_data"
    }
   ],
   "source": [
    "plt.figure(figsize=(50,8))\n",
    "count = train_data['label_id'].value_counts()\n",
    "sns.barplot(count.index,  count.values)\n",
    "plt.xlabel('Class ID', fontsize=12)\n",
    "plt.ylabel('Counts', fontsize=12)\n",
    "plt.title(\"Distribution of Classes\", fontsize=16)"
   ]
  },
  {
   "cell_type": "markdown",
   "metadata": {},
   "source": [
    "#### Most frequent of class in training data"
   ]
  },
  {
   "cell_type": "code",
   "execution_count": 18,
   "metadata": {},
   "outputs": [
    {
     "data": {
      "text/html": [
       "<div>\n",
       "<style>\n",
       "    .dataframe thead tr:only-child th {\n",
       "        text-align: right;\n",
       "    }\n",
       "\n",
       "    .dataframe thead th {\n",
       "        text-align: left;\n",
       "    }\n",
       "\n",
       "    .dataframe tbody tr th {\n",
       "        vertical-align: top;\n",
       "    }\n",
       "</style>\n",
       "<table border=\"1\" class=\"dataframe\">\n",
       "  <thead>\n",
       "    <tr style=\"text-align: right;\">\n",
       "      <th></th>\n",
       "      <th>label_id</th>\n",
       "      <th>count</th>\n",
       "    </tr>\n",
       "  </thead>\n",
       "  <tbody>\n",
       "    <tr>\n",
       "      <th>0</th>\n",
       "      <td>20</td>\n",
       "      <td>3996</td>\n",
       "    </tr>\n",
       "    <tr>\n",
       "      <th>1</th>\n",
       "      <td>42</td>\n",
       "      <td>3973</td>\n",
       "    </tr>\n",
       "    <tr>\n",
       "      <th>2</th>\n",
       "      <td>92</td>\n",
       "      <td>2666</td>\n",
       "    </tr>\n",
       "    <tr>\n",
       "      <th>3</th>\n",
       "      <td>12</td>\n",
       "      <td>2609</td>\n",
       "    </tr>\n",
       "    <tr>\n",
       "      <th>4</th>\n",
       "      <td>125</td>\n",
       "      <td>2598</td>\n",
       "    </tr>\n",
       "    <tr>\n",
       "      <th>5</th>\n",
       "      <td>21</td>\n",
       "      <td>2577</td>\n",
       "    </tr>\n",
       "    <tr>\n",
       "      <th>6</th>\n",
       "      <td>122</td>\n",
       "      <td>2462</td>\n",
       "    </tr>\n",
       "    <tr>\n",
       "      <th>7</th>\n",
       "      <td>3</td>\n",
       "      <td>2368</td>\n",
       "    </tr>\n",
       "    <tr>\n",
       "      <th>8</th>\n",
       "      <td>89</td>\n",
       "      <td>2353</td>\n",
       "    </tr>\n",
       "    <tr>\n",
       "      <th>9</th>\n",
       "      <td>93</td>\n",
       "      <td>2350</td>\n",
       "    </tr>\n",
       "  </tbody>\n",
       "</table>\n",
       "</div>"
      ],
      "text/plain": [
       "   label_id  count\n",
       "0        20   3996\n",
       "1        42   3973\n",
       "2        92   2666\n",
       "3        12   2609\n",
       "4       125   2598\n",
       "5        21   2577\n",
       "6       122   2462\n",
       "7         3   2368\n",
       "8        89   2353\n",
       "9        93   2350"
      ]
     },
     "execution_count": 18,
     "metadata": {},
     "output_type": "execute_result"
    }
   ],
   "source": [
    "temp = pd.DataFrame(train_data.label_id.value_counts())\n",
    "temp.reset_index(inplace=True)\n",
    "temp.columns = ['label_id','count']\n",
    "temp.head(10)"
   ]
  },
  {
   "cell_type": "markdown",
   "metadata": {},
   "source": [
    "#### Least frequent of class in training data"
   ]
  },
  {
   "cell_type": "code",
   "execution_count": 19,
   "metadata": {},
   "outputs": [
    {
     "data": {
      "text/html": [
       "<div>\n",
       "<style>\n",
       "    .dataframe thead tr:only-child th {\n",
       "        text-align: right;\n",
       "    }\n",
       "\n",
       "    .dataframe thead th {\n",
       "        text-align: left;\n",
       "    }\n",
       "\n",
       "    .dataframe tbody tr th {\n",
       "        vertical-align: top;\n",
       "    }\n",
       "</style>\n",
       "<table border=\"1\" class=\"dataframe\">\n",
       "  <thead>\n",
       "    <tr style=\"text-align: right;\">\n",
       "      <th></th>\n",
       "      <th>label_id</th>\n",
       "      <th>count</th>\n",
       "    </tr>\n",
       "  </thead>\n",
       "  <tbody>\n",
       "    <tr>\n",
       "      <th>127</th>\n",
       "      <td>83</td>\n",
       "      <td>332</td>\n",
       "    </tr>\n",
       "    <tr>\n",
       "      <th>126</th>\n",
       "      <td>66</td>\n",
       "      <td>342</td>\n",
       "    </tr>\n",
       "    <tr>\n",
       "      <th>125</th>\n",
       "      <td>124</td>\n",
       "      <td>415</td>\n",
       "    </tr>\n",
       "    <tr>\n",
       "      <th>124</th>\n",
       "      <td>121</td>\n",
       "      <td>442</td>\n",
       "    </tr>\n",
       "    <tr>\n",
       "      <th>123</th>\n",
       "      <td>9</td>\n",
       "      <td>477</td>\n",
       "    </tr>\n",
       "    <tr>\n",
       "      <th>122</th>\n",
       "      <td>25</td>\n",
       "      <td>527</td>\n",
       "    </tr>\n",
       "    <tr>\n",
       "      <th>121</th>\n",
       "      <td>77</td>\n",
       "      <td>543</td>\n",
       "    </tr>\n",
       "    <tr>\n",
       "      <th>120</th>\n",
       "      <td>85</td>\n",
       "      <td>621</td>\n",
       "    </tr>\n",
       "    <tr>\n",
       "      <th>119</th>\n",
       "      <td>41</td>\n",
       "      <td>625</td>\n",
       "    </tr>\n",
       "    <tr>\n",
       "      <th>118</th>\n",
       "      <td>74</td>\n",
       "      <td>629</td>\n",
       "    </tr>\n",
       "  </tbody>\n",
       "</table>\n",
       "</div>"
      ],
      "text/plain": [
       "     label_id  count\n",
       "127        83    332\n",
       "126        66    342\n",
       "125       124    415\n",
       "124       121    442\n",
       "123         9    477\n",
       "122        25    527\n",
       "121        77    543\n",
       "120        85    621\n",
       "119        41    625\n",
       "118        74    629"
      ]
     },
     "execution_count": 19,
     "metadata": {},
     "output_type": "execute_result"
    }
   ],
   "source": [
    "temp.sort_values(by='count', ascending=True).head(10)"
   ]
  },
  {
   "cell_type": "markdown",
   "metadata": {},
   "source": [
    "### Distribution of validation data "
   ]
  },
  {
   "cell_type": "code",
   "execution_count": 20,
   "metadata": {},
   "outputs": [
    {
     "data": {
      "image/png": "[encoded data removed]",
      "text/plain": [
       "<matplotlib.figure.Figure at 0x118795cc0>"
      ]
     },
     "metadata": {},
     "output_type": "display_data"
    }
   ],
   "source": [
    "plt.figure(figsize = (20, 8))\n",
    "plt.title('Category Distribuition')\n",
    "sns.distplot(val_data['label_id'])\n",
    "plt.show()"
   ]
  },
  {
   "cell_type": "code",
   "execution_count": 21,
   "metadata": {},
   "outputs": [
    {
     "data": {
      "text/plain": [
       "<matplotlib.text.Text at 0x114ad5940>"
      ]
     },
     "execution_count": 21,
     "metadata": {},
     "output_type": "execute_result"
    },
    {
     "data": {
      "image/png": "[encoded data removed]",
      "text/plain": [
       "<matplotlib.figure.Figure at 0x114c50860>"
      ]
     },
     "metadata": {},
     "output_type": "display_data"
    }
   ],
   "source": [
    "plt.figure(figsize=(50,8))\n",
    "count = val_data['label_id'].value_counts()\n",
    "sns.barplot(count.index,  count.values)\n",
    "plt.xlabel('Class ID', fontsize=12)\n",
    "plt.ylabel('Counts', fontsize=12)\n",
    "plt.title(\"Distribution of Classes\", fontsize=16)"
   ]
  },
  {
   "cell_type": "markdown",
   "metadata": {},
   "source": [
    "### Extract website name"
   ]
  },
  {
   "cell_type": "code",
   "execution_count": 22,
   "metadata": {},
   "outputs": [
    {
     "name": "stdout",
     "output_type": "stream",
     "text": [
      "Train shape:(194828, 4) Val Shape(6400, 4) Test shape(12800, 3)\n"
     ]
    }
   ],
   "source": [
    "train_data['website'] = [(url.split('//', 1)[1]).split('/', 1)[0] for url in train_data['url']]\n",
    "test_data['website'] = [(url.split('//', 1)[1]).split('/', 1)[0] for url in test_data['url']]\n",
    "val_data['website'] = [(url.split('//', 1)[1]).split('/', 1)[0] for url in val_data['url']]\n",
    "print('Train shape:{0} Val Shape{1} Test shape{2}'.format(train_data.shape, val_data.shape, test_data.shape))"
   ]
  },
  {
   "cell_type": "code",
   "execution_count": 23,
   "metadata": {},
   "outputs": [
    {
     "data": {
      "text/html": [
       "<div>\n",
       "<style>\n",
       "    .dataframe thead tr:only-child th {\n",
       "        text-align: right;\n",
       "    }\n",
       "\n",
       "    .dataframe thead th {\n",
       "        text-align: left;\n",
       "    }\n",
       "\n",
       "    .dataframe tbody tr th {\n",
       "        vertical-align: top;\n",
       "    }\n",
       "</style>\n",
       "<table border=\"1\" class=\"dataframe\">\n",
       "  <thead>\n",
       "    <tr style=\"text-align: right;\">\n",
       "      <th></th>\n",
       "      <th>image_id</th>\n",
       "      <th>label_id</th>\n",
       "      <th>url</th>\n",
       "      <th>website</th>\n",
       "    </tr>\n",
       "  </thead>\n",
       "  <tbody>\n",
       "    <tr>\n",
       "      <th>0</th>\n",
       "      <td>1</td>\n",
       "      <td>5</td>\n",
       "      <td>https://img13.360buyimg.com/imgzone/jfs/t2857/...</td>\n",
       "      <td>img13.360buyimg.com</td>\n",
       "    </tr>\n",
       "    <tr>\n",
       "      <th>1</th>\n",
       "      <td>2</td>\n",
       "      <td>5</td>\n",
       "      <td>http://www.tengdakeli.cn/350/timg01/uploaded/i...</td>\n",
       "      <td>www.tengdakeli.cn</td>\n",
       "    </tr>\n",
       "    <tr>\n",
       "      <th>2</th>\n",
       "      <td>3</td>\n",
       "      <td>5</td>\n",
       "      <td>https://img13.360buyimg.com/imgzone/jfs/t8899/...</td>\n",
       "      <td>img13.360buyimg.com</td>\n",
       "    </tr>\n",
       "    <tr>\n",
       "      <th>3</th>\n",
       "      <td>4</td>\n",
       "      <td>5</td>\n",
       "      <td>http://img4.tbcdn.cn/tfscom/i1/2855447419/TB2S...</td>\n",
       "      <td>img4.tbcdn.cn</td>\n",
       "    </tr>\n",
       "    <tr>\n",
       "      <th>4</th>\n",
       "      <td>5</td>\n",
       "      <td>5</td>\n",
       "      <td>http://a.vpimg4.com/upload/merchandise/287883/...</td>\n",
       "      <td>a.vpimg4.com</td>\n",
       "    </tr>\n",
       "  </tbody>\n",
       "</table>\n",
       "</div>"
      ],
      "text/plain": [
       "   image_id  label_id                                                url  \\\n",
       "0         1         5  https://img13.360buyimg.com/imgzone/jfs/t2857/...   \n",
       "1         2         5  http://www.tengdakeli.cn/350/timg01/uploaded/i...   \n",
       "2         3         5  https://img13.360buyimg.com/imgzone/jfs/t8899/...   \n",
       "3         4         5  http://img4.tbcdn.cn/tfscom/i1/2855447419/TB2S...   \n",
       "4         5         5  http://a.vpimg4.com/upload/merchandise/287883/...   \n",
       "\n",
       "               website  \n",
       "0  img13.360buyimg.com  \n",
       "1    www.tengdakeli.cn  \n",
       "2  img13.360buyimg.com  \n",
       "3        img4.tbcdn.cn  \n",
       "4         a.vpimg4.com  "
      ]
     },
     "execution_count": 23,
     "metadata": {},
     "output_type": "execute_result"
    }
   ],
   "source": [
    "train_data.head()"
   ]
  },
  {
   "cell_type": "code",
   "execution_count": 24,
   "metadata": {},
   "outputs": [
    {
     "data": {
      "text/html": [
       "<div>\n",
       "<style>\n",
       "    .dataframe thead tr:only-child th {\n",
       "        text-align: right;\n",
       "    }\n",
       "\n",
       "    .dataframe thead th {\n",
       "        text-align: left;\n",
       "    }\n",
       "\n",
       "    .dataframe tbody tr th {\n",
       "        vertical-align: top;\n",
       "    }\n",
       "</style>\n",
       "<table border=\"1\" class=\"dataframe\">\n",
       "  <thead>\n",
       "    <tr style=\"text-align: right;\">\n",
       "      <th></th>\n",
       "      <th>image_id</th>\n",
       "      <th>url</th>\n",
       "      <th>website</th>\n",
       "    </tr>\n",
       "  </thead>\n",
       "  <tbody>\n",
       "    <tr>\n",
       "      <th>0</th>\n",
       "      <td>1</td>\n",
       "      <td>https://img13.360buyimg.com/imgzone/jfs/t13174...</td>\n",
       "      <td>img13.360buyimg.com</td>\n",
       "    </tr>\n",
       "    <tr>\n",
       "      <th>1</th>\n",
       "      <td>2</td>\n",
       "      <td>http://img35.ddimg.cn/79/22/1258168705-1_u.jpg</td>\n",
       "      <td>img35.ddimg.cn</td>\n",
       "    </tr>\n",
       "    <tr>\n",
       "      <th>2</th>\n",
       "      <td>3</td>\n",
       "      <td>https://img.alicdn.com/imgextra/TB19HtjKXXXXXc...</td>\n",
       "      <td>img.alicdn.com</td>\n",
       "    </tr>\n",
       "    <tr>\n",
       "      <th>3</th>\n",
       "      <td>4</td>\n",
       "      <td>https://img13.360buyimg.com/imgzone/jfs/t16498...</td>\n",
       "      <td>img13.360buyimg.com</td>\n",
       "    </tr>\n",
       "    <tr>\n",
       "      <th>4</th>\n",
       "      <td>5</td>\n",
       "      <td>http://img4.99114.com/group1/M00/7D/C5/wKgGTFf...</td>\n",
       "      <td>img4.99114.com</td>\n",
       "    </tr>\n",
       "  </tbody>\n",
       "</table>\n",
       "</div>"
      ],
      "text/plain": [
       "   image_id                                                url  \\\n",
       "0         1  https://img13.360buyimg.com/imgzone/jfs/t13174...   \n",
       "1         2     http://img35.ddimg.cn/79/22/1258168705-1_u.jpg   \n",
       "2         3  https://img.alicdn.com/imgextra/TB19HtjKXXXXXc...   \n",
       "3         4  https://img13.360buyimg.com/imgzone/jfs/t16498...   \n",
       "4         5  http://img4.99114.com/group1/M00/7D/C5/wKgGTFf...   \n",
       "\n",
       "               website  \n",
       "0  img13.360buyimg.com  \n",
       "1       img35.ddimg.cn  \n",
       "2       img.alicdn.com  \n",
       "3  img13.360buyimg.com  \n",
       "4       img4.99114.com  "
      ]
     },
     "execution_count": 24,
     "metadata": {},
     "output_type": "execute_result"
    }
   ],
   "source": [
    "test_data.head()"
   ]
  },
  {
   "cell_type": "markdown",
   "metadata": {},
   "source": [
    "#### Top occurances of websites in training data"
   ]
  },
  {
   "cell_type": "code",
   "execution_count": 25,
   "metadata": {},
   "outputs": [
    {
     "data": {
      "text/plain": [
       "<matplotlib.text.Text at 0x12cd30550>"
      ]
     },
     "execution_count": 25,
     "metadata": {},
     "output_type": "execute_result"
    },
    {
     "data": {
      "image/png": "[encoded data removed]",
      "text/plain": [
       "<matplotlib.figure.Figure at 0x13fd1cda0>"
      ]
     },
     "metadata": {},
     "output_type": "display_data"
    }
   ],
   "source": [
    "plt.figure(figsize=(15,8))\n",
    "count = train_data.website.value_counts().head(10)\n",
    "sns.barplot(count.values, count.index)\n",
    "for i, v in enumerate(count.values):\n",
    "    plt.text(0.8,i,v,color='k',fontsize=12)\n",
    "plt.xlabel('Count', fontsize=12)\n",
    "plt.ylabel('websites name', fontsize=12)\n",
    "plt.title(\"websites names with their occurances\", fontsize=16)"
   ]
  },
  {
   "cell_type": "markdown",
   "metadata": {},
   "source": [
    "#### Top occurances of websites in validation data"
   ]
  },
  {
   "cell_type": "code",
   "execution_count": 26,
   "metadata": {},
   "outputs": [
    {
     "data": {
      "text/plain": [
       "<matplotlib.text.Text at 0x12c16fa90>"
      ]
     },
     "execution_count": 26,
     "metadata": {},
     "output_type": "execute_result"
    },
    {
     "data": {
      "image/png": "[encoded data removed]",
      "text/plain": [
       "<matplotlib.figure.Figure at 0x12bd70630>"
      ]
     },
     "metadata": {},
     "output_type": "display_data"
    }
   ],
   "source": [
    "plt.figure(figsize=(15,8))\n",
    "count = val_data.website.value_counts().head(10)\n",
    "sns.barplot(count.values, count.index)\n",
    "for i, v in enumerate(count.values):\n",
    "    plt.text(0.8,i,v,color='k',fontsize=12)\n",
    "plt.xlabel('Count', fontsize=12)\n",
    "plt.ylabel('Website name', fontsize=12)\n",
    "plt.title(\"Website names with their occurances\", fontsize=16)"
   ]
  },
  {
   "cell_type": "markdown",
   "metadata": {},
   "source": [
    "#### Top occurances of websites in test data"
   ]
  },
  {
   "cell_type": "code",
   "execution_count": 27,
   "metadata": {},
   "outputs": [
    {
     "data": {
      "text/plain": [
       "<matplotlib.text.Text at 0x12ddf0fd0>"
      ]
     },
     "execution_count": 27,
     "metadata": {},
     "output_type": "execute_result"
    },
    {
     "data": {
      "image/png": "[encoded data removed]",
      "text/plain": [
       "<matplotlib.figure.Figure at 0x12d7a4630>"
      ]
     },
     "metadata": {},
     "output_type": "display_data"
    }
   ],
   "source": [
    "plt.figure(figsize=(15,8))\n",
    "count = test_data.website.value_counts().head(10)\n",
    "sns.barplot(count.values, count.index)\n",
    "for i, v in enumerate(count.values):\n",
    "    plt.text(0.8,i,v,color='k',fontsize=12)\n",
    "plt.xlabel('Count', fontsize=12)\n",
    "plt.ylabel('Website name', fontsize=12)\n",
    "plt.title(\"Website names with their occurances\", fontsize=16)"
   ]
  },
  {
   "cell_type": "markdown",
   "metadata": {},
   "source": [
    "## Algorithms and Techniques"
   ]
  },
  {
   "cell_type": "markdown",
   "metadata": {},
   "source": [
    "#### Bilinear CNN namely BCNN for short"
   ]
  },
  {
   "cell_type": "markdown",
   "metadata": {},
   "source": [
    "Since our Images have no object bounding, we need to build an end to end model, and the key of a good solution is fine-grained image classification, hence I plan to build a bilinear CNN model, which it is determined to be a good solution of the fine-grained visual classification."
   ]
  },
  {
   "cell_type": "markdown",
   "metadata": {},
   "source": [
    "#### What is BCNN?"
   ]
  },
  {
   "cell_type": "markdown",
   "metadata": {},
   "source": [
    "BCNN is a recignition architecture that consists of two feature extrators whose outputs are multipled using outer product at each location of the image and pooled to obtaine an image descriptor(as cited in http://vis-www.cs.umass.edu/bcnn/docs/bcnn_iccv15.pdf).\n",
    "\n",
    "So basically we need to use two feature extractors, namely A and B, and use the outer product of A and B as the input of FC-layer, the whole architecture as below.\n"
   ]
  },
  {
   "cell_type": "markdown",
   "metadata": {},
   "source": [
    "![bcnn](img/bcnn.PNG)"
   ]
  },
  {
   "cell_type": "markdown",
   "metadata": {},
   "source": [
    "## Benchmark"
   ]
  },
  {
   "cell_type": "markdown",
   "metadata": {},
   "source": [
    "According Lin and others work[2], their bilinear CNN models include classification of birds and aircrafts and cars, they got over 80% of accuracy roughly, compare with the condition of above, this competetion we have 128 classes and 194,828 images for training, for the model that I plan to build, 80% of accuracy it could be reasonable."
   ]
  },
  {
   "cell_type": "markdown",
   "metadata": {},
   "source": [
    "# III. Methodology"
   ]
  },
  {
   "cell_type": "markdown",
   "metadata": {},
   "source": [
    "## Data Preprocessing"
   ]
  },
  {
   "cell_type": "markdown",
   "metadata": {},
   "source": [
    "Since I have kinds difference size of images, I have to resize all of the images to the same size as input for one model, hence I want to know which size should I use?"
   ]
  },
  {
   "cell_type": "code",
   "execution_count": 28,
   "metadata": {},
   "outputs": [
    {
     "name": "stderr",
     "output_type": "stream",
     "text": [
      "100%|██████████| 189934/189934 [55:24<00:00, 35.26it/s]\n"
     ]
    }
   ],
   "source": [
    "import pathlib\n",
    "from PIL import Image\n",
    "from tqdm import tqdm\n",
    "import pandas as pd\n",
    "directory = pathlib.Path('data/train')\n",
    "df = pd.DataFrame(columns=['width', 'height'])\n",
    "i=0\n",
    "for windows_path in tqdm(list(directory.glob('*.jpg'))):\n",
    "    width, height = Image.open(windows_path).size\n",
    "    df.loc[len(df)] = {'width': width, 'height': height}"
   ]
  },
  {
   "cell_type": "code",
   "execution_count": 29,
   "metadata": {},
   "outputs": [
    {
     "name": "stdout",
     "output_type": "stream",
     "text": [
      "         width  height\n",
      "count   189934  189934\n",
      "unique    2054    2091\n",
      "top        800     800\n",
      "freq     98467   96811\n"
     ]
    }
   ],
   "source": [
    "print(df.describe())"
   ]
  },
  {
   "cell_type": "code",
   "execution_count": 30,
   "metadata": {},
   "outputs": [
    {
     "name": "stdout",
     "output_type": "stream",
     "text": [
      "width     761.169280\n",
      "height    723.012783\n",
      "dtype: float64\n"
     ]
    }
   ],
   "source": [
    "print(df.mean(axis=0))"
   ]
  },
  {
   "cell_type": "markdown",
   "metadata": {},
   "source": [
    "It seems to me use the size of the image around 800x800 would be a good idea, but consider the computing costs, first I would try to resize to 96x96, and then use another size128x128 to determine if the result of bigger size is better.\n",
    "\n",
    "Step 1.convert training images and validation images to .h5 file with RGB channel, use util.create_train_val_h5_file.\n",
    "\n",
    "Step 2.convert test images to .h5 file with RGB channel, use util.create_train_val_h5_file.\n",
    "\n",
    "I would have the files  as below:\n",
    "\n",
    "1.size of 96x96:\n",
    "- training.h5\n",
    "- validation.h5\n",
    "- test.h5\n",
    "\n",
    "2.size of 128x128:\n",
    "- training.h5\n",
    "- validation.h5\n",
    "- test.h5"
   ]
  },
  {
   "cell_type": "markdown",
   "metadata": {},
   "source": [
    "## Implementation"
   ]
  },
  {
   "cell_type": "markdown",
   "metadata": {},
   "source": [
    "In this project, I used pretrained model of VGG16. For BCNN it requires tow feature extractors, here I let two feature extractors the same, It can save the costs of training because the weights of two feature extractors are same during the training, hence I can just take the outer product of one feature extractor as the input of FC layer, instead of training two feature extractors.\n",
    "\n",
    "Here are two model architecture and utils as below:\n",
    "\n",
    "Model A: load weights from VGG16 and only last FC layer trainable.\n",
    "\n",
    "Model B: load weights from Model A and the entire model trainable.\n",
    "\n",
    "Random flip: For each batch images random flip them right to left.\n",
    "\n",
    "Furthermore to more saving costs of training, I used two-step training as below:\n",
    "\n",
    "Step 1: Training Model A with Momentum optimizer (learning rate=0.9,momentum=0.9).\n",
    "\n",
    "Step 2: Training Model B with Momentum optimizer (learning rate=0.001,momentum=0.9)."
   ]
  },
  {
   "cell_type": "markdown",
   "metadata": {},
   "source": [
    "### Model A architecture: use bcnn_model_architecture.bcnn_last_layer"
   ]
  },
  {
   "cell_type": "code",
   "execution_count": 38,
   "metadata": {},
   "outputs": [],
   "source": [
    "import tensorflow as tf\n",
    "import numpy as np\n",
    "\n",
    "\n",
    "class model:\n",
    "\n",
    "    def __init__(self, imgs, weights=None, sess=None):\n",
    "        self.images = imgs\n",
    "        # self.imgs=imgs\n",
    "        self.last_layer_parameters = []\n",
    "        self.parameters = []\n",
    "        self.cnn_layers()\n",
    "        self.fc_layers()\n",
    "        self.weight_file = weights\n",
    "\n",
    "    def cnn_layers(self):\n",
    "\n",
    "        # conv1_1\n",
    "        with tf.name_scope('conv1_1') as scope:\n",
    "            weights = tf.Variable(tf.truncated_normal([3, 3, 3, 64], dtype=tf.float32,\n",
    "                                                      stddev=1e-1), trainable=False)\n",
    "            biases = tf.Variable(tf.constant(0.0, shape=[64], dtype=tf.float32),\n",
    "                                 trainable=False)\n",
    "            conv = tf.nn.conv2d(self.images, weights, [1, 1, 1, 1], padding='SAME')\n",
    "            out = tf.nn.bias_add(conv, biases)\n",
    "            self.conv1_1 = tf.nn.relu(out, name=scope)\n",
    "            self.parameters += [weights, biases]\n",
    "\n",
    "        # conv1_2\n",
    "        with tf.name_scope('conv1_2') as scope:\n",
    "            weights = tf.Variable(tf.truncated_normal([3, 3, 64, 64], dtype=tf.float32,\n",
    "                                                      stddev=1e-1), trainable=False)\n",
    "            biases = tf.Variable(tf.constant(0.0, shape=[64], dtype=tf.float32),\n",
    "                                 trainable=False)\n",
    "            conv = tf.nn.conv2d(self.conv1_1, weights, [1, 1, 1, 1], padding='SAME')\n",
    "            out = tf.nn.bias_add(conv, biases)\n",
    "            self.conv1_2 = tf.nn.relu(out, name=scope)\n",
    "            self.parameters += [weights, biases]\n",
    "\n",
    "        # pool1\n",
    "        self.pool1 = tf.nn.max_pool(self.conv1_2,\n",
    "                                    ksize=[1, 2, 2, 1],\n",
    "                                    strides=[1, 2, 2, 1],\n",
    "                                    padding='SAME',\n",
    "                                    name='pool1')\n",
    "\n",
    "        # conv2_1\n",
    "        with tf.name_scope('conv2_1') as scope:\n",
    "            weights = tf.Variable(tf.truncated_normal([3, 3, 64, 128], dtype=tf.float32,\n",
    "                                                      stddev=1e-1), trainable=False)\n",
    "            biases = tf.Variable(tf.constant(0.0, shape=[128], dtype=tf.float32),\n",
    "                                 trainable=False)\n",
    "            conv = tf.nn.conv2d(self.pool1, weights, [1, 1, 1, 1], padding='SAME')\n",
    "\n",
    "            out = tf.nn.bias_add(conv, biases)\n",
    "            self.conv2_1 = tf.nn.relu(out, name=scope)\n",
    "            self.parameters += [weights, biases]\n",
    "\n",
    "        # conv2_2\n",
    "        with tf.name_scope('conv2_2') as scope:\n",
    "            weights = tf.Variable(tf.truncated_normal([3, 3, 128, 128], dtype=tf.float32,\n",
    "                                                      stddev=1e-1), trainable=False)\n",
    "            biases = tf.Variable(tf.constant(0.0, shape=[128], dtype=tf.float32), trainable=False)\n",
    "            conv = tf.nn.conv2d(self.conv2_1, weights, [1, 1, 1, 1], padding='SAME')\n",
    "\n",
    "            out = tf.nn.bias_add(conv, biases)\n",
    "            self.conv2_2 = tf.nn.relu(out, name=scope)\n",
    "            self.parameters += [weights, biases]\n",
    "\n",
    "        # pool2\n",
    "        self.pool2 = tf.nn.max_pool(self.conv2_2,\n",
    "                                    ksize=[1, 2, 2, 1],\n",
    "                                    strides=[1, 2, 2, 1],\n",
    "                                    padding='SAME',\n",
    "                                    name='pool2')\n",
    "\n",
    "        # conv3_1\n",
    "        with tf.name_scope('conv3_1') as scope:\n",
    "            weights = tf.Variable(tf.truncated_normal([3, 3, 128, 256], dtype=tf.float32,\n",
    "                                                      stddev=1e-1), trainable=False)\n",
    "            biases = tf.Variable(tf.constant(0.0, shape=[256], dtype=tf.float32),\n",
    "                                 trainable=False)\n",
    "\n",
    "            conv = tf.nn.conv2d(self.pool2, weights, [1, 1, 1, 1], padding='SAME')\n",
    "            out = tf.nn.bias_add(conv, biases)\n",
    "            self.conv3_1 = tf.nn.relu(out, name=scope)\n",
    "            self.parameters += [weights, biases]\n",
    "\n",
    "        # conv3_2\n",
    "        with tf.name_scope('conv3_2') as scope:\n",
    "            weights = tf.Variable(tf.truncated_normal([3, 3, 256, 256], dtype=tf.float32,\n",
    "                                                      stddev=1e-1), trainable=False)\n",
    "            biases = tf.Variable(tf.constant(0.0, shape=[256], dtype=tf.float32),\n",
    "                                 trainable=False)\n",
    "            conv = tf.nn.conv2d(self.conv3_1, weights, [1, 1, 1, 1], padding='SAME')\n",
    "            out = tf.nn.bias_add(conv, biases)\n",
    "            self.conv3_2 = tf.nn.relu(out, name=scope)\n",
    "            self.parameters += [weights, biases]\n",
    "\n",
    "        # conv3_3\n",
    "        with tf.name_scope('conv3_3') as scope:\n",
    "            weights = tf.Variable(tf.truncated_normal([3, 3, 256, 256], dtype=tf.float32,\n",
    "                                                      stddev=1e-1), trainable=False)\n",
    "            biases = tf.Variable(tf.constant(0.0, shape=[256], dtype=tf.float32),\n",
    "                                 trainable=False)\n",
    "\n",
    "            conv = tf.nn.conv2d(self.conv3_2, weights, [1, 1, 1, 1], padding='SAME')\n",
    "            out = tf.nn.bias_add(conv, biases)\n",
    "            self.conv3_3 = tf.nn.relu(out, name=scope)\n",
    "            self.parameters += [weights, biases]\n",
    "\n",
    "        # pool3\n",
    "        self.pool3 = tf.nn.max_pool(self.conv3_3,\n",
    "                                    ksize=[1, 2, 2, 1],\n",
    "                                    strides=[1, 2, 2, 1],\n",
    "                                    padding='SAME',\n",
    "                                    name='pool3')\n",
    "\n",
    "        # conv4_1\n",
    "        with tf.name_scope('conv4_1') as scope:\n",
    "            weights = tf.Variable(tf.truncated_normal([3, 3, 256, 512], dtype=tf.float32,\n",
    "                                                      stddev=1e-1), trainable=False)\n",
    "            biases = tf.Variable(tf.constant(0.0, shape=[512], dtype=tf.float32),\n",
    "                                 trainable=False)\n",
    "\n",
    "            conv = tf.nn.conv2d(self.pool3, weights, [1, 1, 1, 1], padding='SAME')\n",
    "            out = tf.nn.bias_add(conv, biases)\n",
    "            self.conv4_1 = tf.nn.relu(out, name=scope)\n",
    "            self.parameters += [weights, biases]\n",
    "\n",
    "        # conv4_2\n",
    "        with tf.name_scope('conv4_2') as scope:\n",
    "            weights = tf.Variable(tf.truncated_normal([3, 3, 512, 512], dtype=tf.float32,\n",
    "                                                      stddev=1e-1), trainable=False)\n",
    "            biases = tf.Variable(tf.constant(0.0, shape=[512], dtype=tf.float32),\n",
    "                                 trainable=False)\n",
    "            conv = tf.nn.conv2d(self.conv4_1, weights, [1, 1, 1, 1], padding='SAME')\n",
    "\n",
    "            out = tf.nn.bias_add(conv, biases)\n",
    "            self.conv4_2 = tf.nn.relu(out, name=scope)\n",
    "            self.parameters += [weights, biases]\n",
    "\n",
    "        # conv4_3\n",
    "        with tf.name_scope('conv4_3') as scope:\n",
    "            weights = tf.Variable(tf.truncated_normal([3, 3, 512, 512], dtype=tf.float32,\n",
    "                                                      stddev=1e-1), trainable=False)\n",
    "            biases = tf.Variable(tf.constant(0.0, shape=[512], dtype=tf.float32),\n",
    "                                 trainable=False)\n",
    "            conv = tf.nn.conv2d(self.conv4_2, weights, [1, 1, 1, 1], padding='SAME')\n",
    "            out = tf.nn.bias_add(conv, biases)\n",
    "            self.conv4_3 = tf.nn.relu(out, name=scope)\n",
    "            self.parameters += [weights, biases]\n",
    "\n",
    "        # pool4\n",
    "        self.pool4 = tf.nn.max_pool(self.conv4_3,\n",
    "                                    ksize=[1, 2, 2, 1],\n",
    "                                    strides=[1, 2, 2, 1],\n",
    "                                    padding='SAME',\n",
    "                                    name='pool4')\n",
    "\n",
    "        # conv5_1\n",
    "        with tf.name_scope('conv5_1') as scope:\n",
    "            weights = tf.Variable(tf.truncated_normal([3, 3, 512, 512], dtype=tf.float32,\n",
    "                                                      stddev=1e-1), trainable=False)\n",
    "            biases = tf.Variable(tf.constant(0.0, shape=[512], dtype=tf.float32),\n",
    "                                 trainable=False)\n",
    "            conv = tf.nn.conv2d(self.pool4, weights, [1, 1, 1, 1], padding='SAME')\n",
    "            out = tf.nn.bias_add(conv, biases)\n",
    "            self.conv5_1 = tf.nn.relu(out, name=scope)\n",
    "            self.parameters += [weights, biases]\n",
    "\n",
    "        # conv5_2\n",
    "        with tf.name_scope('conv5_2') as scope:\n",
    "            weights = tf.Variable(tf.truncated_normal([3, 3, 512, 512], dtype=tf.float32,\n",
    "                                                      stddev=1e-1), trainable=False)\n",
    "            biases = tf.Variable(tf.constant(0.0, shape=[512], dtype=tf.float32),\n",
    "                                 trainable=False)\n",
    "            conv = tf.nn.conv2d(self.conv5_1, weights, [1, 1, 1, 1], padding='SAME')\n",
    "            out = tf.nn.bias_add(conv, biases)\n",
    "            self.conv5_2 = tf.nn.relu(out, name=scope)\n",
    "            self.parameters += [weights, biases]\n",
    "\n",
    "        # conv5_3\n",
    "        with tf.name_scope('conv5_3') as scope:\n",
    "            weights = tf.Variable(tf.truncated_normal([3, 3, 512, 512], dtype=tf.float32,\n",
    "                                                      stddev=1e-1), trainable=False)\n",
    "            conv = tf.nn.conv2d(self.conv5_2, weights, [1, 1, 1, 1], padding='SAME')\n",
    "            biases = tf.Variable(tf.constant(0.0, shape=[512], dtype=tf.float32),\n",
    "                                 trainable=False)\n",
    "            out = tf.nn.bias_add(conv, biases)\n",
    "            self.conv5_3 = tf.nn.relu(out, name=scope)\n",
    "            self.parameters += [weights, biases]\n",
    "\n",
    "        print('Shape of conv5_3', self.conv5_3.get_shape())\n",
    "        self.phi_I = tf.einsum('ijkm,ijkn->imn', self.conv5_3, self.conv5_3)\n",
    "        print('Shape of phi_I after einsum', self.phi_I.get_shape())\n",
    "\n",
    "        self.phi_I = tf.reshape(self.phi_I, [-1, 512 * 512])\n",
    "        print('Shape of phi_I after reshape', self.phi_I.get_shape())\n",
    "\n",
    "        self.phi_I = tf.divide(self.phi_I, 784.0)\n",
    "        print('Shape of phi_I after division', self.phi_I.get_shape())\n",
    "\n",
    "        self.y_ssqrt = tf.multiply(tf.sign(self.phi_I), tf.sqrt(tf.abs(self.phi_I) + 1e-12))\n",
    "        print('Shape of y_ssqrt', self.y_ssqrt.get_shape())\n",
    "\n",
    "        self.z_l2 = tf.nn.l2_normalize(self.y_ssqrt, axis=1)\n",
    "        print('Shape of z_l2', self.z_l2.get_shape())\n",
    "\n",
    "    def fc_layers(self):\n",
    "\n",
    "        with tf.name_scope('fc-new') as scope:\n",
    "            fc3w = tf.get_variable('weights', [512 * 512, 128], initializer=tf.contrib.layers.xavier_initializer(),\n",
    "                                   trainable=True)\n",
    "            fc3b = tf.get_variable(\"b\", [128], initializer=tf.constant_initializer(0.1), trainable=True)\n",
    "            self.fc3l = tf.nn.bias_add(tf.matmul(self.z_l2, fc3w), fc3b)\n",
    "            self.last_layer_parameters += [fc3w, fc3b]\n",
    "            self.parameters += [fc3w, fc3b]\n",
    "\n",
    "    def load_weights(self, sess):\n",
    "        weights = np.load(self.weight_file)\n",
    "        keys = sorted(weights.keys())\n",
    "        for i, k in enumerate(keys):\n",
    "            removed_layer_variables = ['fc6_W', 'fc6_b', 'fc7_W', 'fc7_b', 'fc8_W', 'fc8_b']\n",
    "            if not k in removed_layer_variables:\n",
    "                print(k)\n",
    "                print(\"\", i, k, np.shape(weights[k]))\n",
    "                sess.run(self.parameters[i].assign(weights[k]))"
   ]
  },
  {
   "cell_type": "markdown",
   "metadata": {},
   "source": [
    "### Model B architecture: use bcnn_model_architecture.bcnn_full_layer"
   ]
  },
  {
   "cell_type": "code",
   "execution_count": 39,
   "metadata": {},
   "outputs": [],
   "source": [
    "import tensorflow as tf\n",
    "import numpy as np\n",
    "\n",
    "\n",
    "class model:\n",
    "    def __init__(self, imgs, weights=None, sess=None):\n",
    "        self.images = imgs\n",
    "        self.imgs = imgs\n",
    "        self.last_layer_parameters = []  \n",
    "        self.parameters = []  \n",
    "        self.convlayers()\n",
    "        self.fc_layers()\n",
    "        self.weight_file = weights\n",
    "\n",
    "    def convlayers(self):\n",
    "        # conv1_1\n",
    "        with tf.variable_scope(\"conv1_1\"):\n",
    "            weights = tf.get_variable(\"W\", [3, 3, 3, 64], initializer=tf.contrib.layers.xavier_initializer(),\n",
    "                                      trainable=True)\n",
    "            # Create variable named \"biases\".\n",
    "            biases = tf.get_variable(\"b\", [64], initializer=tf.constant_initializer(0.1), trainable=True)\n",
    "            conv = tf.nn.conv2d(self.images, weights, strides=[1, 1, 1, 1], padding='SAME')\n",
    "            self.conv1_1 = tf.nn.relu(conv + biases)\n",
    "            self.parameters += [weights, biases]\n",
    "\n",
    "        # conv1_2\n",
    "        with tf.variable_scope(\"conv1_2\"):\n",
    "            weights = tf.get_variable(\"W\", [3, 3, 64, 64], initializer=tf.contrib.layers.xavier_initializer(),\n",
    "                                      trainable=True)\n",
    "            # Create variable named \"biases\".\n",
    "            biases = tf.get_variable(\"b\", [64], initializer=tf.constant_initializer(0.1), trainable=True)\n",
    "            conv = tf.nn.conv2d(self.conv1_1, weights, strides=[1, 1, 1, 1], padding='SAME')\n",
    "            self.conv1_2 = tf.nn.relu(conv + biases)\n",
    "            self.parameters += [weights, biases]\n",
    "\n",
    "        # pool1\n",
    "        self.pool1 = tf.nn.max_pool(self.conv1_2,\n",
    "                                    ksize=[1, 2, 2, 1],\n",
    "                                    strides=[1, 2, 2, 1],\n",
    "                                    padding='SAME',\n",
    "                                    name='pool1')\n",
    "\n",
    "        # conv2_1\n",
    "        with tf.variable_scope(\"conv2_1\"):\n",
    "            weights = tf.get_variable(\"W\", [3, 3, 64, 128], initializer=tf.contrib.layers.xavier_initializer(),\n",
    "                                      trainable=True)\n",
    "            biases = tf.get_variable(\"b\", [128], initializer=tf.constant_initializer(0.1), trainable=True)\n",
    "            conv = tf.nn.conv2d(self.pool1, weights, strides=[1, 1, 1, 1], padding='SAME')\n",
    "            self.conv2_1 = tf.nn.relu(conv + biases)\n",
    "            self.parameters += [weights, biases]\n",
    "\n",
    "        # conv2_2\n",
    "        with tf.variable_scope(\"conv2_2\"):\n",
    "            weights = tf.get_variable(\"W\", [3, 3, 128, 128], initializer=tf.contrib.layers.xavier_initializer(),\n",
    "                                      trainable=True)\n",
    "            biases = tf.get_variable(\"b\", [128], initializer=tf.constant_initializer(0.1), trainable=True)\n",
    "            conv = tf.nn.conv2d(self.conv2_1, weights, strides=[1, 1, 1, 1], padding='SAME')\n",
    "            self.conv2_2 = tf.nn.relu(conv + biases)\n",
    "            self.parameters += [weights, biases]\n",
    "\n",
    "        # pool2\n",
    "        self.pool2 = tf.nn.max_pool(self.conv2_2,\n",
    "                                    ksize=[1, 2, 2, 1],\n",
    "                                    strides=[1, 2, 2, 1],\n",
    "                                    padding='SAME',\n",
    "                                    name='pool2')\n",
    "\n",
    "        # conv3_1\n",
    "        with tf.variable_scope(\"conv3_1\"):\n",
    "            weights = tf.get_variable(\"W\", [3, 3, 128, 256], initializer=tf.contrib.layers.xavier_initializer(),\n",
    "                                      trainable=True)\n",
    "            biases = tf.get_variable(\"b\", [256], initializer=tf.constant_initializer(0.1), trainable=True)\n",
    "            conv = tf.nn.conv2d(self.pool2, weights, strides=[1, 1, 1, 1], padding='SAME')\n",
    "            self.conv3_1 = tf.nn.relu(conv + biases)\n",
    "            self.parameters += [weights, biases]\n",
    "\n",
    "        # conv3_2\n",
    "        with tf.variable_scope(\"conv3_2\"):\n",
    "            weights = tf.get_variable(\"W\", [3, 3, 256, 256], initializer=tf.contrib.layers.xavier_initializer(),\n",
    "                                      trainable=True)\n",
    "            biases = tf.get_variable(\"b\", [256], initializer=tf.constant_initializer(0.1), trainable=True)\n",
    "            conv = tf.nn.conv2d(self.conv3_1, weights, strides=[1, 1, 1, 1], padding='SAME')\n",
    "            self.conv3_2 = tf.nn.relu(conv + biases)\n",
    "            self.parameters += [weights, biases]\n",
    "\n",
    "        # conv3_3\n",
    "        with tf.variable_scope(\"conv3_3\"):\n",
    "            weights = tf.get_variable(\"W\", [3, 3, 256, 256], initializer=tf.contrib.layers.xavier_initializer(),\n",
    "                                      trainable=True)\n",
    "            biases = tf.get_variable(\"b\", [256], initializer=tf.constant_initializer(0.1), trainable=True)\n",
    "            conv = tf.nn.conv2d(self.conv3_2, weights, strides=[1, 1, 1, 1], padding='SAME')\n",
    "            self.conv3_3 = tf.nn.relu(conv + biases)\n",
    "            self.parameters += [weights, biases]\n",
    "\n",
    "        # pool3\n",
    "        self.pool3 = tf.nn.max_pool(self.conv3_3,\n",
    "                                    ksize=[1, 2, 2, 1],\n",
    "                                    strides=[1, 2, 2, 1],\n",
    "                                    padding='SAME',\n",
    "                                    name='pool3')\n",
    "\n",
    "        # conv4_1\n",
    "        with tf.variable_scope(\"conv4_1\"):\n",
    "            weights = tf.get_variable(\"W\", [3, 3, 256, 512], initializer=tf.contrib.layers.xavier_initializer(),\n",
    "                                      trainable=True)\n",
    "            biases = tf.get_variable(\"b\", [512], initializer=tf.constant_initializer(0.1), trainable=True)\n",
    "            conv = tf.nn.conv2d(self.pool3, weights, strides=[1, 1, 1, 1], padding='SAME')\n",
    "            self.conv4_1 = tf.nn.relu(conv + biases)\n",
    "            self.parameters += [weights, biases]\n",
    "\n",
    "        # conv4_2\n",
    "        with tf.variable_scope(\"conv4_2\"):\n",
    "            weights = tf.get_variable(\"W\", [3, 3, 512, 512], initializer=tf.contrib.layers.xavier_initializer(),\n",
    "                                      trainable=True)\n",
    "            biases = tf.get_variable(\"b\", [512], initializer=tf.constant_initializer(0.1), trainable=True)\n",
    "            conv = tf.nn.conv2d(self.conv4_1, weights, strides=[1, 1, 1, 1], padding='SAME')\n",
    "            self.conv4_2 = tf.nn.relu(conv + biases)\n",
    "            self.parameters += [weights, biases]\n",
    "\n",
    "        # conv4_3\n",
    "        with tf.variable_scope(\"conv4_3\"):\n",
    "            weights = tf.get_variable(\"W\", [3, 3, 512, 512], initializer=tf.contrib.layers.xavier_initializer(),\n",
    "                                      trainable=True)\n",
    "            biases = tf.get_variable(\"b\", [512], initializer=tf.constant_initializer(0.1), trainable=True)\n",
    "            conv = tf.nn.conv2d(self.conv4_2, weights, strides=[1, 1, 1, 1], padding='SAME')\n",
    "            self.conv4_3 = tf.nn.relu(conv + biases)\n",
    "            self.parameters += [weights, biases]\n",
    "\n",
    "        # pool4\n",
    "        self.pool4 = tf.nn.max_pool(self.conv4_3,\n",
    "                                    ksize=[1, 2, 2, 1],\n",
    "                                    strides=[1, 2, 2, 1],\n",
    "                                    padding='SAME',\n",
    "                                    name='pool4')\n",
    "\n",
    "        # conv5_1\n",
    "        with tf.variable_scope(\"conv5_1\"):\n",
    "            weights = tf.get_variable(\"W\", [3, 3, 512, 512], initializer=tf.contrib.layers.xavier_initializer(),\n",
    "                                      trainable=True)\n",
    "            biases = tf.get_variable(\"b\", [512], initializer=tf.constant_initializer(0.1), trainable=True)\n",
    "            conv = tf.nn.conv2d(self.pool4, weights, strides=[1, 1, 1, 1], padding='SAME')\n",
    "            self.conv5_1 = tf.nn.relu(conv + biases)\n",
    "            self.parameters += [weights, biases]\n",
    "\n",
    "        # conv5_2\n",
    "        with tf.variable_scope(\"conv5_2\"):\n",
    "            weights = tf.get_variable(\"W\", [3, 3, 512, 512], initializer=tf.contrib.layers.xavier_initializer(),\n",
    "                                      trainable=True)\n",
    "            biases = tf.get_variable(\"b\", [512], initializer=tf.constant_initializer(0.1), trainable=True)\n",
    "            conv = tf.nn.conv2d(self.conv5_1, weights, strides=[1, 1, 1, 1], padding='SAME')\n",
    "            self.conv5_2 = tf.nn.relu(conv + biases)\n",
    "            self.parameters += [weights, biases]\n",
    "\n",
    "        # conv5_3\n",
    "        with tf.variable_scope(\"conv5_3\"):\n",
    "            weights = tf.get_variable(\"W\", [3, 3, 512, 512], initializer=tf.contrib.layers.xavier_initializer(),\n",
    "                                      trainable=True)\n",
    "            biases = tf.get_variable(\"b\", [512], initializer=tf.constant_initializer(0.1), trainable=True)\n",
    "            conv = tf.nn.conv2d(self.conv5_2, weights, strides=[1, 1, 1, 1], padding='SAME')\n",
    "            self.conv5_3 = tf.nn.relu(conv + biases)\n",
    "\n",
    "            self.parameters += [weights, biases]\n",
    "\n",
    "        print('Shape of conv5_3', self.conv5_3.get_shape())\n",
    "        self.phi_I = tf.einsum('ijkm,ijkn->imn', self.conv5_3, self.conv5_3)\n",
    "        print('Shape of phi_I after einsum', self.phi_I.get_shape())\n",
    "        self.phi_I = tf.reshape(self.phi_I, [-1, 512 * 512])\n",
    "\n",
    "        print('Shape of phi_I after reshape', self.phi_I.get_shape())\n",
    "\n",
    "        self.phi_I = tf.divide(self.phi_I, 784.0)\n",
    "\n",
    "        print('Shape of phi_I after division', self.phi_I.get_shape())\n",
    "\n",
    "        self.y_ssqrt = tf.multiply(tf.sign(self.phi_I), tf.sqrt(tf.abs(self.phi_I) + 1e-12))\n",
    "        print('Shape of y_ssqrt', self.y_ssqrt.get_shape())\n",
    "\n",
    "        self.z_l2 = tf.nn.l2_normalize(self.y_ssqrt, dim=1)\n",
    "        print('Shape of z_l2', self.z_l2.get_shape())\n",
    "\n",
    "    def fc_layers(self):\n",
    "        with tf.variable_scope('fc-new') as scope:\n",
    "            fc3w = tf.get_variable('W', [512 * 512, 128], initializer=tf.contrib.layers.xavier_initializer(),\n",
    "                                   trainable=True)\n",
    "            fc3b = tf.get_variable(\"b\", [128], initializer=tf.constant_initializer(0.1), trainable=True)\n",
    "            self.fc3l = tf.nn.bias_add(tf.matmul(self.z_l2, fc3w), fc3b)\n",
    "            self.last_layer_parameters += [fc3w, fc3b]\n",
    "\n",
    "    def load_initial_weights(self, session):\n",
    "        weights_dict = np.load(self.weight_file, encoding='bytes')\n",
    "        vgg_layers = ['conv1_1', 'conv1_2', 'conv2_1', 'conv2_2', 'conv3_1', 'conv3_2', 'conv3_3', 'conv4_1', 'conv4_2',\n",
    "                      'conv4_3', 'conv5_1', 'conv5_2', 'conv5_3']\n",
    "\n",
    "        for op_name in vgg_layers:\n",
    "            with tf.variable_scope(op_name, reuse=True):\n",
    "                var = tf.get_variable('b', trainable=True)\n",
    "                print('Adding weights to', var.name)\n",
    "                session.run(var.assign(weights_dict[op_name + '_b']))\n",
    "                var = tf.get_variable('W', trainable=True)\n",
    "                print('Adding weights to', var.name)\n",
    "                session.run(var.assign(weights_dict[op_name + '_W']))\n",
    "\n",
    "        with tf.variable_scope('fc-new', reuse=True):\n",
    "            last_layer_weights = np.load('last_layers_epoch_128.npz')\n",
    "            print('Last layer weights: last_layers_epoch_128.npz')\n",
    "            var = tf.get_variable('W', trainable=True)\n",
    "            print('Adding weights to', var.name)\n",
    "            session.run(var.assign(last_layer_weights['arr_0'][0]))\n",
    "            var = tf.get_variable('b', trainable=True)\n",
    "            print('Adding weights to', var.name)\n",
    "            session.run(var.assign(last_layer_weights['arr_0'][1]))\n"
   ]
  },
  {
   "cell_type": "markdown",
   "metadata": {},
   "source": [
    "### Random flip: use utils.utils.random_flip_right_to_left"
   ]
  },
  {
   "cell_type": "code",
   "execution_count": 1,
   "metadata": {},
   "outputs": [],
   "source": [
    "def random_flip_right_to_left(image_batch):\n",
    "    result = []\n",
    "    for n in range(image_batch.shape[0]):\n",
    "        if bool(random.getrandbits(1)):\n",
    "            result.append(image_batch[n][:, ::-1, :])\n",
    "        else:\n",
    "            result.append(image_batch[n])\n",
    "    return result"
   ]
  },
  {
   "cell_type": "markdown",
   "metadata": {},
   "source": [
    "## Refinement"
   ]
  },
  {
   "cell_type": "markdown",
   "metadata": {},
   "source": [
    "In this project here are two main processes:\n",
    "\n",
    "1.First step training use main.first_step_training:\n",
    "\n",
    "    - import model A and load VGG16 weights.\n",
    "    \n",
    "    - after trained model A with 100 epochs.\n",
    "    \n",
    "    - extract weights of model A and save to weights file.\n",
    "    \n",
    "    - output prediction.\n",
    "    \n",
    "2.Second step training use main.second_step_training:\n",
    "\n",
    "    - import model B and load weights from model A.\n",
    "    \n",
    "    - training model B, and check if model overfitting during the training period.\n",
    "    \n",
    "    - extract weights of model B and save to weights file.\n",
    "    \n",
    "    - output prediction."
   ]
  },
  {
   "cell_type": "markdown",
   "metadata": {},
   "source": [
    "# IV. Results"
   ]
  },
  {
   "cell_type": "markdown",
   "metadata": {},
   "source": [
    "# Model Evaluation and Validation"
   ]
  },
  {
   "cell_type": "markdown",
   "metadata": {},
   "source": [
    "At first, I resize images to 96x96 and after 62 epochs training, model got overfitting, and I got accuracy around 76%.\n",
    "\n",
    "And then I resize images to 128x128 and after 30 epochs training, model got overfitting, and I got accuracy around 78%.\n",
    "\n",
    "All the accuracy as above are evaluated by upload predict result to Kaggle, for the detail see as below:"
   ]
  },
  {
   "cell_type": "markdown",
   "metadata": {},
   "source": [
    "![kaggle](img/kaggle.PNG)"
   ]
  },
  {
   "cell_type": "markdown",
   "metadata": {},
   "source": [
    "## Justification"
   ]
  },
  {
   "cell_type": "markdown",
   "metadata": {},
   "source": [
    "The final results I got the accuracy is around 78% with image size 128x128.\n",
    "\n",
    "Compare to the accuracy of benchmark  is over 80%, it seems not good enough, but consider the result from image size of 96x96 accuracy is 76%, hence I expected if increase the image size, the accuracy would be improve to over 80%.\n"
   ]
  },
  {
   "cell_type": "markdown",
   "metadata": {},
   "source": [
    "| benchmark model         | model with 96x96 image size | model with 128x128 image size |\n",
    "|-------------------------|-----------------------------|-------------------------------|\n",
    "|   accuracy over 80%     |         accuracy: 76%       |   accuracy: 78%               |"
   ]
  },
  {
   "cell_type": "markdown",
   "metadata": {},
   "source": [
    "# V. Conclusion"
   ]
  },
  {
   "cell_type": "markdown",
   "metadata": {},
   "source": [
    "## Free-Form Visualization"
   ]
  },
  {
   "cell_type": "markdown",
   "metadata": {},
   "source": [
    "### optimizer:\n",
    "\n",
    "In this project consider the amounts of training data and compare to our target categories, I think the input data is not sparse, we should not use adaptive learning-rate methods, such as RMSprop or Adam[3].\n",
    "\n",
    "Hence I use momentum optimizer to accelerate training, but if we want to more approach the optimal, maybe we could try SGD optimizer.\n",
    "\n",
    "See SGD optimization on loss surface contours as belowe[3]:"
   ]
  },
  {
   "cell_type": "markdown",
   "metadata": {},
   "source": [
    "![optimizers](img/contours_evaluation_optimizers.gif)"
   ]
  },
  {
   "cell_type": "markdown",
   "metadata": {},
   "source": [
    "## Reflection"
   ]
  },
  {
   "cell_type": "markdown",
   "metadata": {},
   "source": [
    "This project is a competition from Kaggle, and all the data we need to download from URLs that Kaggle provided,\n",
    "hence the first we need to write program to download all these images automatically.\n",
    "\n",
    "After finish download all these images, we have kinds of different size of image, hence the first we need to resize all the image, then convert these images to .h5 file, and implement the BCNN architecture specifically is the architecture of BCNN[D,D] [2], the interesting thing is I can just take the outer product of one feature extractor as the input of FC layer, because the weights of two feature extractors are same during the training.\n",
    "\n",
    "The most difficult thing I think is saving the costs of computing, for this competition I already spents over 200 dollars on the GCP.\n",
    "\n",
    "I think at begining I should use very small portion of images to figure out whitch size of image is good and affordable to computing.\n"
   ]
  },
  {
   "cell_type": "markdown",
   "metadata": {},
   "source": [
    "## Improvement"
   ]
  },
  {
   "cell_type": "markdown",
   "metadata": {},
   "source": [
    "Here are some idea I think that would improve the result:\n",
    "\n",
    "1. Increase Image size: I got the image mean size arround 800x800, and I tried two different image size from 96x96 to 128x128 the accuracy is increase, hence I expect increase image size is helpful.\n",
    "\n",
    "2. Shuffling the training data after every epoch: I have tried to do this but unfortunately memory is not affordable.\n",
    "\n",
    "3. Use SGD optimizer: Generally if training data is big I think use SGD optimizer is most likely to approach optimal."
   ]
  },
  {
   "cell_type": "markdown",
   "metadata": {},
   "source": [
    "# VI. References"
   ]
  },
  {
   "cell_type": "markdown",
   "metadata": {},
   "source": [
    "\n",
    "[1] https://www.kaggle.com/c/imaterialist-challenge-furniture-2018\n",
    "\n",
    "[2] T.-Y. Lin, A. RoyChowdhury, and S. Maji. Bilinear CNN models for fine-grained visual recognition. In Proceedings of IEEE International Conference on Computer Vision, pages 1449–1457, Sandiago, Chile, Dec. 2015.\n",
    "\n",
    "[3] http://ruder.io/optimizing-gradient-descent/"
   ]
  }
 ],
 "metadata": {
  "kernelspec": {
   "display_name": "Python 3",
   "language": "python",
   "name": "python3"
  },
  "language_info": {
   "codemirror_mode": {
    "name": "ipython",
    "version": 3
   },
   "file_extension": ".py",
   "mimetype": "text/x-python",
   "name": "python",
   "nbconvert_exporter": "python",
   "pygments_lexer": "ipython3",
   "version": "3.6.2"
  }
 },
 "nbformat": 4,
 "nbformat_minor": 2
}
